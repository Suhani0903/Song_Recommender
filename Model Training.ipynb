{
 "cells": [
  {
   "cell_type": "code",
   "execution_count": null,
   "id": "5dd035eb-e3c7-4a74-a055-3bedb8c34c23",
   "metadata": {},
   "outputs": [],
   "source": []
  }
 ],
 "metadata": {
  "kernelspec": {
   "display_name": "",
   "name": ""
  },
  "language_info": {
   "name": ""
  }
 },
 "nbformat": 4,
 "nbformat_minor": 5
}
