{
 "cells": [
  {
   "cell_type": "markdown",
   "id": "32f7e3fe-cda5-46da-808d-d2b5ad84a109",
   "metadata": {},
   "source": [
    "# Music Recommender System (Project)"
   ]
  },
  {
   "cell_type": "markdown",
   "id": "b0c9aa0f-2e78-40dc-b2a8-fc9bab43576d",
   "metadata": {},
   "source": [
    "## Name: Suhani Khawas\n",
    "## Roll no: 21\n",
    "## course: AI/ML"
   ]
  },
  {
   "cell_type": "code",
   "execution_count": 2,
   "id": "bfd401c8-27ab-4d39-8409-e28735fdadc5",
   "metadata": {},
   "outputs": [],
   "source": [
    "import pandas as pd"
   ]
  },
  {
   "cell_type": "code",
   "execution_count": 3,
   "id": "df8df264-112c-44f6-914e-a51cc441de2d",
   "metadata": {},
   "outputs": [],
   "source": [
    "df = pd.read_csv(\"spotify_millsongdata.csv\")"
   ]
  },
  {
   "cell_type": "code",
   "execution_count": 4,
   "id": "aa6c86ab-6674-4d78-9297-5604ec0e3cf2",
   "metadata": {},
   "outputs": [
    {
     "data": {
      "text/html": [
       "<div>\n",
       "<style scoped>\n",
       "    .dataframe tbody tr th:only-of-type {\n",
       "        vertical-align: middle;\n",
       "    }\n",
       "\n",
       "    .dataframe tbody tr th {\n",
       "        vertical-align: top;\n",
       "    }\n",
       "\n",
       "    .dataframe thead th {\n",
       "        text-align: right;\n",
       "    }\n",
       "</style>\n",
       "<table border=\"1\" class=\"dataframe\">\n",
       "  <thead>\n",
       "    <tr style=\"text-align: right;\">\n",
       "      <th></th>\n",
       "      <th>artist</th>\n",
       "      <th>song</th>\n",
       "      <th>link</th>\n",
       "      <th>text</th>\n",
       "    </tr>\n",
       "  </thead>\n",
       "  <tbody>\n",
       "    <tr>\n",
       "      <th>0</th>\n",
       "      <td>ABBA</td>\n",
       "      <td>Ahe's My Kind Of Girl</td>\n",
       "      <td>/a/abba/ahes+my+kind+of+girl_20598417.html</td>\n",
       "      <td>Look at her face, it's a wonderful face  \\r\\nA...</td>\n",
       "    </tr>\n",
       "    <tr>\n",
       "      <th>1</th>\n",
       "      <td>ABBA</td>\n",
       "      <td>Andante, Andante</td>\n",
       "      <td>/a/abba/andante+andante_20002708.html</td>\n",
       "      <td>Take it easy with me, please  \\r\\nTouch me gen...</td>\n",
       "    </tr>\n",
       "    <tr>\n",
       "      <th>2</th>\n",
       "      <td>ABBA</td>\n",
       "      <td>As Good As New</td>\n",
       "      <td>/a/abba/as+good+as+new_20003033.html</td>\n",
       "      <td>I'll never know why I had to go  \\r\\nWhy I had...</td>\n",
       "    </tr>\n",
       "    <tr>\n",
       "      <th>3</th>\n",
       "      <td>ABBA</td>\n",
       "      <td>Bang</td>\n",
       "      <td>/a/abba/bang_20598415.html</td>\n",
       "      <td>Making somebody happy is a question of give an...</td>\n",
       "    </tr>\n",
       "    <tr>\n",
       "      <th>4</th>\n",
       "      <td>ABBA</td>\n",
       "      <td>Bang-A-Boomerang</td>\n",
       "      <td>/a/abba/bang+a+boomerang_20002668.html</td>\n",
       "      <td>Making somebody happy is a question of give an...</td>\n",
       "    </tr>\n",
       "  </tbody>\n",
       "</table>\n",
       "</div>"
      ],
      "text/plain": [
       "  artist                   song                                        link  \\\n",
       "0   ABBA  Ahe's My Kind Of Girl  /a/abba/ahes+my+kind+of+girl_20598417.html   \n",
       "1   ABBA       Andante, Andante       /a/abba/andante+andante_20002708.html   \n",
       "2   ABBA         As Good As New        /a/abba/as+good+as+new_20003033.html   \n",
       "3   ABBA                   Bang                  /a/abba/bang_20598415.html   \n",
       "4   ABBA       Bang-A-Boomerang      /a/abba/bang+a+boomerang_20002668.html   \n",
       "\n",
       "                                                text  \n",
       "0  Look at her face, it's a wonderful face  \\r\\nA...  \n",
       "1  Take it easy with me, please  \\r\\nTouch me gen...  \n",
       "2  I'll never know why I had to go  \\r\\nWhy I had...  \n",
       "3  Making somebody happy is a question of give an...  \n",
       "4  Making somebody happy is a question of give an...  "
      ]
     },
     "execution_count": 4,
     "metadata": {},
     "output_type": "execute_result"
    }
   ],
   "source": [
    "df.head(5)"
   ]
  },
  {
   "cell_type": "code",
   "execution_count": 5,
   "id": "f6320dc1-7d13-4d12-8676-0bf058792383",
   "metadata": {},
   "outputs": [
    {
     "data": {
      "text/html": [
       "<div>\n",
       "<style scoped>\n",
       "    .dataframe tbody tr th:only-of-type {\n",
       "        vertical-align: middle;\n",
       "    }\n",
       "\n",
       "    .dataframe tbody tr th {\n",
       "        vertical-align: top;\n",
       "    }\n",
       "\n",
       "    .dataframe thead th {\n",
       "        text-align: right;\n",
       "    }\n",
       "</style>\n",
       "<table border=\"1\" class=\"dataframe\">\n",
       "  <thead>\n",
       "    <tr style=\"text-align: right;\">\n",
       "      <th></th>\n",
       "      <th>artist</th>\n",
       "      <th>song</th>\n",
       "      <th>link</th>\n",
       "      <th>text</th>\n",
       "    </tr>\n",
       "  </thead>\n",
       "  <tbody>\n",
       "    <tr>\n",
       "      <th>57645</th>\n",
       "      <td>Ziggy Marley</td>\n",
       "      <td>Good Old Days</td>\n",
       "      <td>/z/ziggy+marley/good+old+days_10198588.html</td>\n",
       "      <td>Irie days come on play  \\r\\nLet the angels fly...</td>\n",
       "    </tr>\n",
       "    <tr>\n",
       "      <th>57646</th>\n",
       "      <td>Ziggy Marley</td>\n",
       "      <td>Hand To Mouth</td>\n",
       "      <td>/z/ziggy+marley/hand+to+mouth_20531167.html</td>\n",
       "      <td>Power to the workers  \\r\\nMore power  \\r\\nPowe...</td>\n",
       "    </tr>\n",
       "    <tr>\n",
       "      <th>57647</th>\n",
       "      <td>Zwan</td>\n",
       "      <td>Come With Me</td>\n",
       "      <td>/z/zwan/come+with+me_20148981.html</td>\n",
       "      <td>all you need  \\r\\nis something i'll believe  \\...</td>\n",
       "    </tr>\n",
       "    <tr>\n",
       "      <th>57648</th>\n",
       "      <td>Zwan</td>\n",
       "      <td>Desire</td>\n",
       "      <td>/z/zwan/desire_20148986.html</td>\n",
       "      <td>northern star  \\r\\nam i frightened  \\r\\nwhere ...</td>\n",
       "    </tr>\n",
       "    <tr>\n",
       "      <th>57649</th>\n",
       "      <td>Zwan</td>\n",
       "      <td>Heartsong</td>\n",
       "      <td>/z/zwan/heartsong_20148991.html</td>\n",
       "      <td>come in  \\r\\nmake yourself at home  \\r\\ni'm a ...</td>\n",
       "    </tr>\n",
       "  </tbody>\n",
       "</table>\n",
       "</div>"
      ],
      "text/plain": [
       "             artist           song  \\\n",
       "57645  Ziggy Marley  Good Old Days   \n",
       "57646  Ziggy Marley  Hand To Mouth   \n",
       "57647          Zwan   Come With Me   \n",
       "57648          Zwan         Desire   \n",
       "57649          Zwan      Heartsong   \n",
       "\n",
       "                                              link  \\\n",
       "57645  /z/ziggy+marley/good+old+days_10198588.html   \n",
       "57646  /z/ziggy+marley/hand+to+mouth_20531167.html   \n",
       "57647           /z/zwan/come+with+me_20148981.html   \n",
       "57648                 /z/zwan/desire_20148986.html   \n",
       "57649              /z/zwan/heartsong_20148991.html   \n",
       "\n",
       "                                                    text  \n",
       "57645  Irie days come on play  \\r\\nLet the angels fly...  \n",
       "57646  Power to the workers  \\r\\nMore power  \\r\\nPowe...  \n",
       "57647  all you need  \\r\\nis something i'll believe  \\...  \n",
       "57648  northern star  \\r\\nam i frightened  \\r\\nwhere ...  \n",
       "57649  come in  \\r\\nmake yourself at home  \\r\\ni'm a ...  "
      ]
     },
     "execution_count": 5,
     "metadata": {},
     "output_type": "execute_result"
    }
   ],
   "source": [
    "df.tail(5)"
   ]
  },
  {
   "cell_type": "code",
   "execution_count": 6,
   "id": "ccb2aaf7-d6e7-4a11-aac4-d5488e9823e4",
   "metadata": {},
   "outputs": [
    {
     "data": {
      "text/plain": [
       "(57650, 4)"
      ]
     },
     "execution_count": 6,
     "metadata": {},
     "output_type": "execute_result"
    }
   ],
   "source": [
    "df.shape"
   ]
  },
  {
   "cell_type": "code",
   "execution_count": 7,
   "id": "fe4f8b29-2ec1-4f94-a412-93475bdce1bc",
   "metadata": {},
   "outputs": [
    {
     "data": {
      "text/plain": [
       "artist    0\n",
       "song      0\n",
       "link      0\n",
       "text      0\n",
       "dtype: int64"
      ]
     },
     "execution_count": 7,
     "metadata": {},
     "output_type": "execute_result"
    }
   ],
   "source": [
    "df.isnull().sum()"
   ]
  },
  {
   "cell_type": "code",
   "execution_count": 8,
   "id": "2c2f6f52-7601-4888-81e7-f90418e9c2cc",
   "metadata": {},
   "outputs": [],
   "source": [
    "df = df.sample(5000).drop('link',axis=1).reset_index(drop=True)"
   ]
  },
  {
   "cell_type": "code",
   "execution_count": 9,
   "id": "5f9f6d51-d1a6-4780-ba28-ed954e5ed546",
   "metadata": {},
   "outputs": [
    {
     "data": {
      "text/html": [
       "<div>\n",
       "<style scoped>\n",
       "    .dataframe tbody tr th:only-of-type {\n",
       "        vertical-align: middle;\n",
       "    }\n",
       "\n",
       "    .dataframe tbody tr th {\n",
       "        vertical-align: top;\n",
       "    }\n",
       "\n",
       "    .dataframe thead th {\n",
       "        text-align: right;\n",
       "    }\n",
       "</style>\n",
       "<table border=\"1\" class=\"dataframe\">\n",
       "  <thead>\n",
       "    <tr style=\"text-align: right;\">\n",
       "      <th></th>\n",
       "      <th>artist</th>\n",
       "      <th>song</th>\n",
       "      <th>text</th>\n",
       "    </tr>\n",
       "  </thead>\n",
       "  <tbody>\n",
       "    <tr>\n",
       "      <th>0</th>\n",
       "      <td>John Prine</td>\n",
       "      <td>The Frying Pan</td>\n",
       "      <td>I come home from work this evening  \\r\\nThere ...</td>\n",
       "    </tr>\n",
       "    <tr>\n",
       "      <th>1</th>\n",
       "      <td>Unwritten Law</td>\n",
       "      <td>Save Me</td>\n",
       "      <td>Had a bad day, don't talk to me, gonna ride th...</td>\n",
       "    </tr>\n",
       "    <tr>\n",
       "      <th>2</th>\n",
       "      <td>Wet Wet Wet</td>\n",
       "      <td>Don't Let Me Be Lonely Tonight</td>\n",
       "      <td>Do me wrong, do me right  \\r\\nTell me lies, bu...</td>\n",
       "    </tr>\n",
       "    <tr>\n",
       "      <th>3</th>\n",
       "      <td>Foo Fighters</td>\n",
       "      <td>Fraternity</td>\n",
       "      <td>I'll never be fraternity  \\r\\nAnother disease ...</td>\n",
       "    </tr>\n",
       "    <tr>\n",
       "      <th>4</th>\n",
       "      <td>Marianne Faithfull</td>\n",
       "      <td>Eye Communication</td>\n",
       "      <td>I know you're out there having a good time.  \\...</td>\n",
       "    </tr>\n",
       "  </tbody>\n",
       "</table>\n",
       "</div>"
      ],
      "text/plain": [
       "               artist                            song  \\\n",
       "0          John Prine                  The Frying Pan   \n",
       "1       Unwritten Law                         Save Me   \n",
       "2         Wet Wet Wet  Don't Let Me Be Lonely Tonight   \n",
       "3        Foo Fighters                      Fraternity   \n",
       "4  Marianne Faithfull               Eye Communication   \n",
       "\n",
       "                                                text  \n",
       "0  I come home from work this evening  \\r\\nThere ...  \n",
       "1  Had a bad day, don't talk to me, gonna ride th...  \n",
       "2  Do me wrong, do me right  \\r\\nTell me lies, bu...  \n",
       "3  I'll never be fraternity  \\r\\nAnother disease ...  \n",
       "4  I know you're out there having a good time.  \\...  "
      ]
     },
     "execution_count": 9,
     "metadata": {},
     "output_type": "execute_result"
    }
   ],
   "source": [
    "df.head(5)"
   ]
  },
  {
   "cell_type": "code",
   "execution_count": 10,
   "id": "8764a45e-99c9-4e5e-beeb-d8b704f30862",
   "metadata": {},
   "outputs": [
    {
     "data": {
      "text/plain": [
       "\"I come home from work this evening  \\r\\nThere was a note in the frying pan  \\r\\nIt said fix your own supper babe  \\r\\nI run off with the Fuller brush man  \\r\\nChorus:  \\r\\nAnd I miss the way she used to yell at me  \\r\\nThe way she used to cuss and moan  \\r\\nAnd if I ever go out and get married again  \\r\\nI'll never leave my wife at home  \\r\\nSat down at the table  \\r\\nScreamed, and I hollered and cried  \\r\\nAnd I commenced a carryin' on  \\r\\nTill I almost lost my mind  \\r\\nRepeat Chorus  \\r\\nIf I ever see another salesman  \\r\\nCome a knockin' at my door  \\r\\nI'm gonna pick up a rock and hit him on the head  \\r\\nAnd knock him down on the floor  \\r\\nRepeat Chorus\\r\\n\\r\\n\""
      ]
     },
     "execution_count": 10,
     "metadata": {},
     "output_type": "execute_result"
    }
   ],
   "source": [
    "df['text'][0]"
   ]
  },
  {
   "cell_type": "code",
   "execution_count": 11,
   "id": "8870b23c-aca6-4ca5-8695-e521642a1e1e",
   "metadata": {},
   "outputs": [
    {
     "data": {
      "text/plain": [
       "(5000, 3)"
      ]
     },
     "execution_count": 11,
     "metadata": {},
     "output_type": "execute_result"
    }
   ],
   "source": [
    "df.shape"
   ]
  },
  {
   "cell_type": "markdown",
   "id": "5fc9218c-552c-4abf-ab62-cd3ff9506a82",
   "metadata": {},
   "source": [
    "Text Cleaning/Text Preprocessing"
   ]
  },
  {
   "cell_type": "code",
   "execution_count": 12,
   "id": "998e8dc5-95dc-4da5-9df2-de169e791772",
   "metadata": {},
   "outputs": [],
   "source": [
    "df['text'] = df['text'].str.lower().replace(r'^\\w\\s',' ').replace(r'\\n',' ', regex = True)"
   ]
  },
  {
   "cell_type": "code",
   "execution_count": 13,
   "id": "19d0534d-df92-4e4d-8331-324a4e09c406",
   "metadata": {},
   "outputs": [
    {
     "data": {
      "text/plain": [
       "\"i come home from work this evening  \\r there was a note in the frying pan  \\r it said fix your own supper babe  \\r i run off with the fuller brush man  \\r chorus:  \\r and i miss the way she used to yell at me  \\r the way she used to cuss and moan  \\r and if i ever go out and get married again  \\r i'll never leave my wife at home  \\r sat down at the table  \\r screamed, and i hollered and cried  \\r and i commenced a carryin' on  \\r till i almost lost my mind  \\r repeat chorus  \\r if i ever see another salesman  \\r come a knockin' at my door  \\r i'm gonna pick up a rock and hit him on the head  \\r and knock him down on the floor  \\r repeat chorus\\r \\r \""
      ]
     },
     "execution_count": 13,
     "metadata": {},
     "output_type": "execute_result"
    }
   ],
   "source": [
    "df['text'][0]"
   ]
  },
  {
   "cell_type": "code",
   "execution_count": 14,
   "id": "73240081-c56e-4e93-b44b-27eebcc40b44",
   "metadata": {},
   "outputs": [
    {
     "data": {
      "text/html": [
       "<div>\n",
       "<style scoped>\n",
       "    .dataframe tbody tr th:only-of-type {\n",
       "        vertical-align: middle;\n",
       "    }\n",
       "\n",
       "    .dataframe tbody tr th {\n",
       "        vertical-align: top;\n",
       "    }\n",
       "\n",
       "    .dataframe thead th {\n",
       "        text-align: right;\n",
       "    }\n",
       "</style>\n",
       "<table border=\"1\" class=\"dataframe\">\n",
       "  <thead>\n",
       "    <tr style=\"text-align: right;\">\n",
       "      <th></th>\n",
       "      <th>artist</th>\n",
       "      <th>song</th>\n",
       "      <th>text</th>\n",
       "    </tr>\n",
       "  </thead>\n",
       "  <tbody>\n",
       "    <tr>\n",
       "      <th>4995</th>\n",
       "      <td>King Diamond</td>\n",
       "      <td>The Poltergeist</td>\n",
       "      <td>some would say there is trouble in my home  \\r...</td>\n",
       "    </tr>\n",
       "    <tr>\n",
       "      <th>4996</th>\n",
       "      <td>Dolly Parton</td>\n",
       "      <td>Feel's Like Home</td>\n",
       "      <td>something in your eyes makes me want to lose m...</td>\n",
       "    </tr>\n",
       "    <tr>\n",
       "      <th>4997</th>\n",
       "      <td>Genesis</td>\n",
       "      <td>Ripples</td>\n",
       "      <td>blue girls come in every size  \\r some are wis...</td>\n",
       "    </tr>\n",
       "    <tr>\n",
       "      <th>4998</th>\n",
       "      <td>Air Supply</td>\n",
       "      <td>Daybreak</td>\n",
       "      <td>daybreak, i can't hide the truth  \\r it seems ...</td>\n",
       "    </tr>\n",
       "    <tr>\n",
       "      <th>4999</th>\n",
       "      <td>Uriah Heep</td>\n",
       "      <td>Holy Roller</td>\n",
       "      <td>i was born an only boy  \\r away from palm of w...</td>\n",
       "    </tr>\n",
       "  </tbody>\n",
       "</table>\n",
       "</div>"
      ],
      "text/plain": [
       "            artist              song  \\\n",
       "4995  King Diamond   The Poltergeist   \n",
       "4996  Dolly Parton  Feel's Like Home   \n",
       "4997       Genesis           Ripples   \n",
       "4998    Air Supply          Daybreak   \n",
       "4999    Uriah Heep       Holy Roller   \n",
       "\n",
       "                                                   text  \n",
       "4995  some would say there is trouble in my home  \\r...  \n",
       "4996  something in your eyes makes me want to lose m...  \n",
       "4997  blue girls come in every size  \\r some are wis...  \n",
       "4998  daybreak, i can't hide the truth  \\r it seems ...  \n",
       "4999  i was born an only boy  \\r away from palm of w...  "
      ]
     },
     "execution_count": 14,
     "metadata": {},
     "output_type": "execute_result"
    }
   ],
   "source": [
    "df.tail(5)"
   ]
  },
  {
   "cell_type": "code",
   "execution_count": 15,
   "id": "f70d2c8f-4a93-41c0-8a19-1bcba1f37c76",
   "metadata": {},
   "outputs": [],
   "source": [
    "import nltk\n",
    "from nltk.stem.porter import PorterStemmer"
   ]
  },
  {
   "cell_type": "code",
   "execution_count": 16,
   "id": "b213455a-d10b-4199-b665-deab974fa490",
   "metadata": {},
   "outputs": [],
   "source": [
    "stemmer = PorterStemmer()"
   ]
  },
  {
   "cell_type": "code",
   "execution_count": 17,
   "id": "d54c6a24-6347-46d1-981f-2b870e2b03f7",
   "metadata": {},
   "outputs": [],
   "source": [
    "def token(txt):\n",
    "    token = nltk.word_tokenize(txt)\n",
    "    a = [stemmer.stem(w) for w in token]\n",
    "    return \" \".join(a)"
   ]
  },
  {
   "cell_type": "code",
   "execution_count": 18,
   "id": "d4d9e98f-7000-48b5-ab02-11c82d465027",
   "metadata": {},
   "outputs": [
    {
     "data": {
      "text/plain": [
       "'you are beauti , beauti'"
      ]
     },
     "execution_count": 18,
     "metadata": {},
     "output_type": "execute_result"
    }
   ],
   "source": [
    "token(\"you are beautiful, beauty\")\n"
   ]
  },
  {
   "cell_type": "code",
   "execution_count": 19,
   "id": "acc91e47-7251-40a6-9146-51e20b71cfbb",
   "metadata": {},
   "outputs": [
    {
     "data": {
      "text/plain": [
       "0       i come home from work thi even there wa a note...\n",
       "1       had a bad day , do n't talk to me , gon na rid...\n",
       "2       do me wrong , do me right tell me lie , but ho...\n",
       "3       i 'll never be fratern anoth diseas fratern ne...\n",
       "4       i know you 're out there have a good time . sp...\n",
       "                              ...                        \n",
       "4995    some would say there is troubl in my home even...\n",
       "4996    someth in your eye make me want to lose myself...\n",
       "4997    blue girl come in everi size some are wise and...\n",
       "4998    daybreak , i ca n't hide the truth it seem i '...\n",
       "4999    i wa born an onli boy away from palm of water ...\n",
       "Name: text, Length: 5000, dtype: object"
      ]
     },
     "execution_count": 19,
     "metadata": {},
     "output_type": "execute_result"
    }
   ],
   "source": [
    "df['text'].apply(lambda x: token(x))"
   ]
  },
  {
   "cell_type": "code",
   "execution_count": 20,
   "id": "a8198b7a-0cec-442c-bf04-87fbdb28efc2",
   "metadata": {},
   "outputs": [],
   "source": [
    "from sklearn.feature_extraction.text import TfidfVectorizer\n",
    "from sklearn.metrics.pairwise import cosine_similarity"
   ]
  },
  {
   "cell_type": "code",
   "execution_count": 21,
   "id": "16e1788e-68f6-4767-877c-2ab1f60555cf",
   "metadata": {},
   "outputs": [],
   "source": [
    "tfid = TfidfVectorizer(analyzer='word', stop_words='english')"
   ]
  },
  {
   "cell_type": "code",
   "execution_count": 22,
   "id": "7ad61fee-7a6a-48a6-aa6a-2ae75925850f",
   "metadata": {},
   "outputs": [],
   "source": [
    "matrix=tfid.fit_transform(df['text'])"
   ]
  },
  {
   "cell_type": "code",
   "execution_count": 23,
   "id": "f7b5c3c5-de4b-4f92-a8db-f0e22482388e",
   "metadata": {},
   "outputs": [],
   "source": [
    "similer = cosine_similarity(matrix)"
   ]
  },
  {
   "cell_type": "code",
   "execution_count": 24,
   "id": "fc051c80-69be-4c54-8a1c-36ce881779df",
   "metadata": {},
   "outputs": [
    {
     "data": {
      "text/plain": [
       "array([1.        , 0.00898686, 0.00440603, ..., 0.02690935, 0.06122347,\n",
       "       0.08283661], shape=(5000,))"
      ]
     },
     "execution_count": 24,
     "metadata": {},
     "output_type": "execute_result"
    }
   ],
   "source": [
    "similer[0]"
   ]
  },
  {
   "cell_type": "code",
   "execution_count": 25,
   "id": "a3ea332a-fca8-4e69-8e06-96b8a4a41217",
   "metadata": {},
   "outputs": [
    {
     "data": {
      "text/plain": [
       "np.int64(4995)"
      ]
     },
     "execution_count": 25,
     "metadata": {},
     "output_type": "execute_result"
    }
   ],
   "source": [
    "df[df['song']=='There For Me'].index[0]"
   ]
  },
  {
   "cell_type": "markdown",
   "id": "a0487acc-ae04-46d5-a39a-c2d609266361",
   "metadata": {},
   "source": [
    "Recommender Function"
   ]
  },
  {
   "cell_type": "code",
   "execution_count": 25,
   "id": "3ed01441-c133-4d83-ae7e-587e0bed895e",
   "metadata": {},
   "outputs": [],
   "source": [
    "def recommender(song_name):\n",
    "    idx = df[df['song']==song_name].index[0]\n",
    "    distance = sorted(list(enumerate(similer[idx])), reverse=True, key=lambda x:x[1])\n",
    "    song = []\n",
    "    for s_id in distance[1:21]:\n",
    "        song.append(df.iloc[s_id[0]].song)\n",
    "    return song"
   ]
  },
  {
   "cell_type": "code",
   "execution_count": 27,
   "id": "646dd33b-9d1f-4e56-83f9-563cde006780",
   "metadata": {},
   "outputs": [
    {
     "data": {
      "text/plain": [
       "['My Brother Sarah - Sway B - Side',\n",
       " 'Very Close To Far Away',\n",
       " 'Too Close For Comfort',\n",
       " 'Nothing Comes Close',\n",
       " 'Sweet Vacation',\n",
       " 'When I Close My Eyes',\n",
       " 'How Can I Tell You',\n",
       " 'Tell It Like It Is',\n",
       " \"Jacob's Ladder\",\n",
       " 'Say You Love Me',\n",
       " 'Feet On The Ground',\n",
       " 'P.S. I Love You',\n",
       " 'Words',\n",
       " 'Open Door',\n",
       " 'Everyday Again',\n",
       " 'Could I Have This Kiss Forever',\n",
       " \"Can't Get Close Enough To You\",\n",
       " 'Some Say',\n",
       " \"Don't Cry\",\n",
       " 'Song To My Parents']"
      ]
     },
     "execution_count": 27,
     "metadata": {},
     "output_type": "execute_result"
    }
   ],
   "source": [
    "recommender(\"There For Me\")"
   ]
  },
  {
   "cell_type": "code",
   "execution_count": 26,
   "id": "d5bfac6b-92e2-4a9e-86e2-15a9a2813bcb",
   "metadata": {},
   "outputs": [],
   "source": [
    "import pickle"
   ]
  },
  {
   "cell_type": "code",
   "execution_count": 27,
   "id": "f1e69682-f29d-4a7d-ab80-24dea0ce6171",
   "metadata": {},
   "outputs": [],
   "source": [
    "pickle.dump(similer, open(\"similarity\", \"wb\"))"
   ]
  },
  {
   "cell_type": "code",
   "execution_count": 28,
   "id": "9ec7d38a-cc7a-4fec-b882-2f6288d97350",
   "metadata": {},
   "outputs": [],
   "source": [
    "pickle.dump(df, open(\"df\", \"wb\"))"
   ]
  },
  {
   "cell_type": "code",
   "execution_count": 29,
   "id": "d6dda89c-3d54-487b-add3-4764e5bea0ea",
   "metadata": {},
   "outputs": [
    {
     "data": {
      "image/png": "[encoded data removed]",
      "text/plain": [
       "<Figure size 1000x500 with 1 Axes>"
      ]
     },
     "metadata": {},
     "output_type": "display_data"
    }
   ],
   "source": [
    "import matplotlib.pyplot as plt\n",
    "import seaborn as sns\n",
    "\n",
    "df['lyric_length'] = df['text'].apply(lambda x: len(x.split()))\n",
    "plt.figure(figsize=(10, 5))\n",
    "sns.histplot(df['lyric_length'], bins=50, kde=True)\n",
    "plt.title(\"Distribution of Lyric Lengths\")\n",
    "plt.xlabel(\"Number of Words\")\n",
    "plt.ylabel(\"Frequency\")\n",
    "plt.show()"
   ]
  },
  {
   "cell_type": "code",
   "execution_count": 30,
   "id": "8511bd11-f5cb-4099-86a9-93b5f7a564f5",
   "metadata": {},
   "outputs": [
    {
     "data": {
      "image/png": "[encoded data removed]",
      "text/plain": [
       "<Figure size 1200x800 with 2 Axes>"
      ]
     },
     "metadata": {},
     "output_type": "display_data"
    }
   ],
   "source": [
    "from sklearn.metrics.pairwise import cosine_similarity\n",
    "\n",
    "subset_sim = cosine_similarity(matrix[:20])\n",
    "plt.figure(figsize=(12, 8))\n",
    "sns.heatmap(subset_sim, cmap='viridis')\n",
    "plt.title(\"Cosine Similarity Heatmap (First 20 Songs)\")\n",
    "plt.xlabel(\"Song Index\")\n",
    "plt.ylabel(\"Song Index\")\n",
    "plt.show()"
   ]
  },
  {
   "cell_type": "code",
   "execution_count": 31,
   "id": "298da4c7-e193-4e8b-b53f-4f34cf83101b",
   "metadata": {
    "scrolled": true
   },
   "outputs": [
    {
     "data": {
      "image/png": "[encoded data removed]",
      "text/plain": [
       "<Figure size 1200x600 with 1 Axes>"
      ]
     },
     "metadata": {},
     "output_type": "display_data"
    }
   ],
   "source": [
    "\n",
    "from collections import Counter\n",
    "\n",
    "words = \" \".join(df['text']).split()\n",
    "common = Counter(words).most_common(15)\n",
    "words_list, counts = zip(*common)\n",
    "\n",
    "plot_df = pd.DataFrame({'word': words_list, 'count': counts})\n",
    "\n",
    "plt.figure(figsize=(12, 6))\n",
    "sns.barplot(data=plot_df, x='word', y='count', hue='word', palette='magma', dodge=False, legend=False)\n",
    "plt.title(\"Top 15 Most Frequent Words in Lyrics\")\n",
    "plt.xlabel(\"Words\")\n",
    "plt.ylabel(\"Count\")\n",
    "plt.xticks(rotation=45)\n",
    "plt.show()\n"
   ]
  },
  {
   "cell_type": "code",
   "execution_count": 32,
   "id": "4267d959-ecbc-43e1-9a1f-ca2e8fe57d31",
   "metadata": {},
   "outputs": [
    {
     "data": {
      "image/png": "[encoded data removed]",
      "text/plain": [
       "<Figure size 1000x500 with 1 Axes>"
      ]
     },
     "metadata": {},
     "output_type": "display_data"
    }
   ],
   "source": [
    "import numpy as np\n",
    "\n",
    "all_scores = similer.flatten()\n",
    "plt.figure(figsize=(10, 5))\n",
    "sns.histplot(all_scores, bins=50, color='purple')\n",
    "plt.title(\"Distribution of Cosine Similarity Scores Between Songs\")\n",
    "plt.xlabel(\"Cosine Similarity\")\n",
    "plt.ylabel(\"Frequency\")\n",
    "plt.show()"
   ]
  },
  {
   "cell_type": "code",
   "execution_count": 35,
   "id": "0d45f6aa-94de-4d5c-a643-2cfabe2f5be6",
   "metadata": {},
   "outputs": [
    {
     "name": "stdout",
     "output_type": "stream",
     "text": [
      "Simulated Precision@10: 0.20\n",
      "Simulated F1-Score@10: 0.33\n"
     ]
    }
   ],
   "source": [
    "from sklearn.metrics import precision_score, f1_score\n",
    "\n",
    "def evaluate_recommender(song_name, k=10):\n",
    "    try:\n",
    "        idx = df[df['song'] == song_name].index[0]\n",
    "        target_artist = df.loc[idx, 'artist']\n",
    "        recommended_songs = recommender(song_name)[:k]\n",
    "        \n",
    "        true_labels = [1 if df[df['song'] == song]['artist'].values[0] == target_artist else 0 for song in recommended_songs]\n",
    "        predicted_labels = [1]*len(true_labels)  # all are predicted as similar\n",
    "\n",
    "        precision = precision_score(true_labels, predicted_labels, zero_division=0)\n",
    "        f1 = f1_score(true_labels, predicted_labels, zero_division=0)\n",
    "\n",
    "        return precision, f1\n",
    "    except:\n",
    "        return None, None\n",
    "\n",
    "# Example usage\n",
    "precision, f1 = evaluate_recommender(\"There For Me\")\n",
    "print(f\"Simulated Precision@10: {precision:.2f}\")\n",
    "print(f\"Simulated F1-Score@10: {f1:.2f}\")"
   ]
  },
  {
   "cell_type": "code",
   "execution_count": null,
   "id": "587fb65f-70d4-464b-add6-49e5fd192926",
   "metadata": {},
   "outputs": [],
   "source": []
  }
 ],
 "metadata": {
  "kernelspec": {
   "display_name": "Python (myenv_project)",
   "language": "python",
   "name": "myenv_project"
  },
  "language_info": {
   "codemirror_mode": {
    "name": "ipython",
    "version": 3
   },
   "file_extension": ".py",
   "mimetype": "text/x-python",
   "name": "python",
   "nbconvert_exporter": "python",
   "pygments_lexer": "ipython3",
   "version": "3.10.0"
  }
 },
 "nbformat": 4,
 "nbformat_minor": 5
}
